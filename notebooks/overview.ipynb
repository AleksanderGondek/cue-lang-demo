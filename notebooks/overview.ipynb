{
 "cells": [
  {
   "cell_type": "markdown",
   "metadata": {},
   "source": [
    "## Configuration file formats\n",
    "\n",
    "* INI\n",
    "* XML\n",
    "* JSON\n",
    "* YAML\n",
    "* TOML\n",
    "* ...\n"
   ]
  },
  {
   "cell_type": "markdown",
   "metadata": {},
   "source": [
    "### Common issues\n",
    "\n",
    "Any reasonable configuration file format and structure is manageable on relatively small scale.\n",
    "Issues however become immediately apparent if one has to govern __many config__ files for many applications for __many environments__..\n",
    "\n",
    "Usually, the bottomline is: a common structure, schema of the config file exists, but needs to be populated with differing values.\n",
    "The schema is usually tough to enforce explictily and it is even harder to tell if value may be changed to another one.\n",
    "\n",
    "Manual maintainance is no longer feasible.\n",
    "\n",
    "\n",
    "Great, relatively small-scale example are kuberenetes deployment manifests. Generating them for one environment is troublesome, doing that for many environments quickly makes it a diffcult task. "
   ]
  },
  {
   "cell_type": "markdown",
   "metadata": {},
   "source": [
    "### Common solutions\n",
    "\n",
    "1. Templating\n",
    "  * Jinja2, Helm Charts..\n",
    "2. Schemas\n",
    "  * JSONSchema, Python Marshmallow..\n",
    "3. From {some_format} to {config_format} generation\n",
    "  * JSONNET, ksonnet, Skycfg\n"
   ]
  },
  {
   "cell_type": "markdown",
   "metadata": {},
   "source": [
    "## Problem statement\n",
    "\n",
    "Broadly speaking, utilizing above solution comes bundled with issues, which tend to overshadow any gains:\n",
    "\n",
    "* Frequently, \"extends\" existing standard which comes at the cost of carrying over its drawback\n",
    "* Refactoring ridden with fear (no type safety)\n",
    "* Synchronizing schemas and generators/templates is hard and error prone\n",
    "* Inheritance order matters - why?\n",
    "* Turing-completeness - why?\n",
    "* Undefined behaviours\n",
    "* Undefined, null, error ...\n",
    "* Side-effects\n",
    "* High congnitive load\n",
    "* ...\n",
    "* and anyone can add more examples :)\n"
   ]
  },
  {
   "cell_type": "markdown",
   "metadata": {},
   "source": [
    "### Cherry-picked example\n",
    "\n",
    "Does this \\[__JSONNET__\\]:\n",
    "```json\n",
    "{\n",
    "  person1: {\n",
    "    name: \"Alice\",\n",
    "    welcome: \"Hello \" + self.name + \"!\",\n",
    "  },\n",
    "  person2: self.person1 { name: \"Bob\" },\n",
    "}\n",
    "```\n",
    "\n",
    "is really better than this \\[__JSON__\\]:\n",
    "```json\n",
    "{\n",
    "  \"person1\": {\n",
    "    \"name\": \"Alice\",\n",
    "    \"welcome\": \"Hello Alice!\"\n",
    "  },\n",
    "  \"person2\": {\n",
    "    \"name\": \"Bob\",\n",
    "    \"welcome\": \"Hello Bob!\"\n",
    "  }\n",
    "}\n",
    "```\n",
    "\n",
    "* Same syntax issues\n",
    "* Still typo-prone\n",
    "* Writing a schema is manual labor\n",
    "* \"_embedding_\" pytohn-esq statements does not lends itself to be more readable"
   ]
  },
  {
   "cell_type": "markdown",
   "metadata": {},
   "source": [
    "## Data constraint languages\n",
    "\n",
    "* (sort-of) nix expression language\n",
    "* Dhall\n",
    "* CUE"
   ]
  },
  {
   "cell_type": "markdown",
   "metadata": {},
   "source": [
    "### Why DCL/CUE?\n",
    "\n",
    "\"Jsonnet is based on BCL, an internal language at Google. It fixes a few things relative to BCL, but is mostly the same. This means it copies the biggest mistakes of BCL. Even though BCL is still widely used at Google, its issues are clear. It was just that the alternatives weren't that much better.\n",
    "\n",
    "There are a myriad of issues with BCL (and Jsonnet and pretty much all of its descendants), but I will mention a couple:\n",
    "\n",
    "* Most notably, the basic operation of composition of BCL/Jsonnet, inheritance, is not commutative and idempotent in the general case. In other words, order matters. This makes it, for humans, hard to track where values are coming from. But also, it makes it very complicated, if not impossible, to do any kind of automation. The complexity of inheritance is compounded by the fact that values can enter an object from one of several directions (super, overlay, etc.), and the order in which this happens matters. The basic operation of CUE is commutative, associative and idempotent. This order independence helps both humans and machines. The resulting model is much less complex.\n",
    "\n",
    "* Typing: most of the BCL offshoots do not allow for schema definitions. This makes it hard to detect any kind of typos or user errors. For a large code bases, no one will question a requirement to have a compiled/typed language. Why should we not require the same kind of rigor for data? Some offshoots of BCL internal to Google and also external have tried to address this a bit, but none quite satisfactory. In CUE types and values are the same thing. This makes things both easier than schema-based languages (less concepts to learn), but also more powerful. It allows for intuitive but also precise typing.\n",
    "\n",
    "* There are many other issues, like handling cycles, unprincipled workarounds for hermeticity, poor tooling and so forth that make BCL and offsprings often awkward.\n",
    "\n",
    "So why CUE? Configuration is still largely an unsolved problem. We have tried using code to generate configs, or hybrid languages, but that often results in a mess. Using generators on databases doesn't allow keeping it sync with revision control. Simpler approaches like HCL and Kustomize recognize the complexity issue by removing a lot of it, but then sometimes become too weak, and actually also reintroduce some of this complexity with overlays (a poor man's inheritance, if you will, but with some of the same negative consequences). Other forms of removing complexity, for instance by just introducing simpler forms/ abstraction layers of configuration, may work within certain context but are domain-specific and relatively hard to maintain.\n",
    "\n",
    "So inheritance-based languages, for all its flaws, were the best we had. The idea behind CUE is to recognize that a declarative language is the best approach for many (not all) configuration problems, but to tackle the fundamental issues of these languages.\" \\[1\\]\n",
    "\n",
    "---\n",
    "\\[1\\] - https://github.com/cuelang/cue/issues/33#issuecomment-483615374"
   ]
  },
  {
   "cell_type": "markdown",
   "metadata": {},
   "source": [
    "## Top CUE advantages\n",
    "\n",
    "* Typing \n",
    "* Types are values\n",
    "* Values lettuce (inheritance order does not matter)\n",
    "* Configuration, validation, generation .. all in one package\n",
    "* Allows both to integrate with tools and import from external tools\n"
   ]
  },
  {
   "cell_type": "code",
   "execution_count": null,
   "metadata": {},
   "outputs": [],
   "source": []
  }
 ],
 "metadata": {
  "kernelspec": {
   "display_name": "Bash",
   "language": "bash",
   "name": "bash"
  },
  "language_info": {
   "codemirror_mode": "shell",
   "file_extension": ".sh",
   "mimetype": "text/x-sh",
   "name": "bash"
  }
 },
 "nbformat": 4,
 "nbformat_minor": 4
}
