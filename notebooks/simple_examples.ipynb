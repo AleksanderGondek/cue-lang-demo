{
 "cells": [
  {
   "cell_type": "markdown",
   "metadata": {},
   "source": [
    "### JSON Superset\n",
    "\n",
    "CUE is a superset of JSON.\n",
    "It adds the following conveniences:\n",
    "\n",
    "- C-style comments,\n",
    "- quotes may be omitted from field names without special characters,\n",
    "- commas at the end of fields are optional,\n",
    "- comma after last element in list is allowed,\n",
    "- outer curly braces are optional.\n"
   ]
  },
  {
   "cell_type": "code",
   "execution_count": 3,
   "metadata": {},
   "outputs": [
    {
     "name": "stdout",
     "output_type": "stream",
     "text": [
      "one: 1\n",
      "two: 2\n",
      "\n",
      "// A field using quotes.\n",
      "\"two-and-a-half\": 2.5\n",
      "\n",
      "list: [\n",
      "\t1,\n",
      "\t2,\n",
      "\t3,\n",
      "]\n"
     ]
    }
   ],
   "source": [
    "cat 10_json.cue"
   ]
  },
  {
   "cell_type": "code",
   "execution_count": 4,
   "metadata": {},
   "outputs": [
    {
     "name": "stdout",
     "output_type": "stream",
     "text": [
      "{\n",
      "    \"list\": [\n",
      "        1,\n",
      "        2,\n",
      "        3\n",
      "    ],\n",
      "    \"one\": 1,\n",
      "    \"two\": 2,\n",
      "    \"two-and-a-half\": 2.5\n",
      "}\n"
     ]
    }
   ],
   "source": [
    "cue export 10_json.cue"
   ]
  },
  {
   "cell_type": "markdown",
   "metadata": {},
   "source": [
    "## Types are values\n",
    "\n",
    "CUE merges the concepts of values and types.\n",
    "Below is a demonstration of this concept,\n",
    "showing respectively\n",
    "some data, a possible schema for this data,\n",
    "and something in between: a typical CUE constraint.\n",
    "\n",
    "### Data\n",
    "```json\n",
    "moscow: {\n",
    "  name:    \"Moscow\"\n",
    "  pop:     11.92M\n",
    "  capital: true\n",
    "}\n",
    "```\n",
    "\n",
    "### Schema\n",
    "```json\n",
    "municipality: {\n",
    "  name:    string\n",
    "  pop:     int\n",
    "  capital: bool\n",
    "}\n",
    "```\n",
    "\n",
    "### CUE\n",
    "```json\n",
    "largeCapital: {\n",
    "  name:    string\n",
    "  pop:     >5M\n",
    "  capital: true\n",
    "}\n",
    "```\n",
    "\n",
    "In general, in CUE one starts with a broad definition of a schema, describing all possible instances,\n",
    "and then narrows down these definitions for particular use casesuntil a concrete data instance remains."
   ]
  },
  {
   "cell_type": "markdown",
   "metadata": {},
   "source": [
    "## Duplicate Fields\n",
    "\n",
    "CUE allows duplicated field definitions as long as they don't conflict.\n",
    "\n",
    "For values of basic types this means they must be equal.\n",
    "\n",
    "For structs, fields are merged and duplicated fields are handled recursively.\n",
    "\n",
    "For lists, all elements must match accordingly."
   ]
  },
  {
   "cell_type": "code",
   "execution_count": 5,
   "metadata": {},
   "outputs": [
    {
     "name": "stdout",
     "output_type": "stream",
     "text": [
      "a: 4\n",
      "a: 4\n",
      "\n",
      "s: { b: 2 }\n",
      "s: { c: 2 }\n",
      "\n",
      "l: [ 1, 2 ]\n",
      "l: [ 1, 2 ]\n"
     ]
    }
   ],
   "source": [
    "cat 30_duplicates.cue"
   ]
  },
  {
   "cell_type": "code",
   "execution_count": 6,
   "metadata": {},
   "outputs": [
    {
     "name": "stdout",
     "output_type": "stream",
     "text": [
      "{\n",
      "    \"a\": 4,\n",
      "    \"s\": {\n",
      "        \"b\": 2,\n",
      "        \"c\": 2\n",
      "    },\n",
      "    \"l\": [\n",
      "        1,\n",
      "        2\n",
      "    ]\n",
      "}\n"
     ]
    }
   ],
   "source": [
    "cue export 30_duplicates.cue"
   ]
  },
  {
   "cell_type": "markdown",
   "metadata": {},
   "source": [
    "## Constraints\n",
    "\n",
    "Constraints specify what values are allowed.\n",
    "To CUE they are just values like anything else,\n",
    "but conceptually they can be explained as something in between types and\n",
    "concrete values.\n",
    "\n",
    "But constraints can also reduce boilerplate.\n",
    "If a constraint defines a concrete value, there is no need\n",
    "to specify it in values to which this constraint applies.\n"
   ]
  },
  {
   "cell_type": "code",
   "execution_count": 7,
   "metadata": {},
   "outputs": [
    {
     "name": "stdout",
     "output_type": "stream",
     "text": [
      "schema: {\n",
      "    name:  string\n",
      "    age:   int\n",
      "    human: true // always true\n",
      "}\n",
      "\n",
      "viola: schema\n",
      "viola: {\n",
      "    name: \"Viola\"\n",
      "    age:  38\n",
      "}\n"
     ]
    }
   ],
   "source": [
    "cat 40_constraints_good.cue"
   ]
  },
  {
   "cell_type": "code",
   "execution_count": 8,
   "metadata": {},
   "outputs": [
    {
     "name": "stdout",
     "output_type": "stream",
     "text": [
      "schema: {\n",
      "    name:  string\n",
      "    age:   int\n",
      "    human: true\n",
      "}\n",
      "viola: {\n",
      "    name:  \"Viola\"\n",
      "    age:   38\n",
      "    human: true\n",
      "}\n"
     ]
    }
   ],
   "source": [
    "cue eval 40_constraints_good.cue"
   ]
  },
  {
   "cell_type": "code",
   "execution_count": 9,
   "metadata": {},
   "outputs": [
    {
     "name": "stdout",
     "output_type": "stream",
     "text": [
      "schema: {\n",
      "    name:  string\n",
      "    age:   >12\n",
      "}\n",
      "\n",
      "viola: schema\n",
      "viola: {\n",
      "    name: \"Viola\"\n",
      "    age:  11\n",
      "}\n"
     ]
    }
   ],
   "source": [
    "cat 40_constraints_bad.cue"
   ]
  },
  {
   "cell_type": "code",
   "execution_count": 11,
   "metadata": {},
   "outputs": [
    {
     "name": "stdout",
     "output_type": "stream",
     "text": [
      "viola.age: invalid value 11 (out of bound >12):\n",
      "    ./40_constraints_bad.cue:3:12\n",
      "    ./40_constraints_bad.cue:9:11\n"
     ]
    }
   ],
   "source": [
    "cue eval 40_constraints_bad.cue || true"
   ]
  },
  {
   "cell_type": "markdown",
   "metadata": {},
   "source": [
    "### Definitions\n",
    "\n",
    "In CUE, schemas are typically written as Definitions.\n",
    "A definition is a field which identifier starts with\n",
    "a `#` or `_#`.\n",
    "This tells CUE that they are to be used for validation and should\n",
    "not be output as data; it is okay for them to remain unspecified.\n",
    "\n",
    "A definition also tells CUE the full set of allowed fields.\n",
    "In other words, definitions define \"closed\" structs.\n",
    "Including a `...` in struct keeps it open.\n"
   ]
  },
  {
   "cell_type": "code",
   "execution_count": 12,
   "metadata": {},
   "outputs": [
    {
     "name": "stdout",
     "output_type": "stream",
     "text": [
      "#Conn: {\n",
      "    address:  string\n",
      "    port:     int\n",
      "    protocol: string\n",
      "    // ...    // uncomment this to allow any field\n",
      "}\n",
      "\n",
      "lossy: #Conn & {\n",
      "    address:  \"1.2.3.4\"\n",
      "    port:     8888\n",
      "    protocol: \"udp\"\n",
      "    // foo: 2 // uncomment this to get an error\n",
      "}\n"
     ]
    }
   ],
   "source": [
    "cat 43_definitions.cue"
   ]
  },
  {
   "cell_type": "code",
   "execution_count": 13,
   "metadata": {},
   "outputs": [
    {
     "name": "stdout",
     "output_type": "stream",
     "text": [
      "{\n",
      "    \"lossy\": {\n",
      "        \"address\": \"1.2.3.4\",\n",
      "        \"port\": 8888,\n",
      "        \"protocol\": \"udp\"\n",
      "    }\n",
      "}\n"
     ]
    }
   ],
   "source": [
    "cue export 43_definitions.cue"
   ]
  },
  {
   "cell_type": "markdown",
   "metadata": {},
   "source": [
    "### Validation\n",
    "\n",
    "Constraints can be used to validate values of concrete instances.\n",
    "They can be applied to CUE data, or directly to YAML or JSON."
   ]
  },
  {
   "cell_type": "code",
   "execution_count": 15,
   "metadata": {},
   "outputs": [
    {
     "name": "stdout",
     "output_type": "stream",
     "text": [
      "#Language: {\n",
      "\ttag:  string\n",
      "\tname: =~\"^\\\\p{Lu}\" // Must start with an uppercase letter.\n",
      "}\n",
      "languages: [...#Language]\n"
     ]
    }
   ],
   "source": [
    "cat 47_validation.cue"
   ]
  },
  {
   "cell_type": "code",
   "execution_count": 16,
   "metadata": {},
   "outputs": [
    {
     "name": "stdout",
     "output_type": "stream",
     "text": [
      "languages:\n",
      "  - tag: en\n",
      "    name: English\n",
      "  - tag: nl\n",
      "    name: dutch\n",
      "  - tag: no\n",
      "    name: Norwegian\n"
     ]
    }
   ],
   "source": [
    "cat 47_validation_data.yaml"
   ]
  },
  {
   "cell_type": "code",
   "execution_count": 17,
   "metadata": {},
   "outputs": [
    {
     "name": "stdout",
     "output_type": "stream",
     "text": [
      "languages.2.tag: conflicting values string and false (mismatched types string and bool):\n",
      "    ./47_validation.cue:2:8\n",
      "    ./47_validation_data.yaml:6:11\n",
      "languages.1.name: invalid value \"dutch\" (does not match =~\"^\\\\p{Lu}\"):\n",
      "    ./47_validation.cue:3:8\n",
      "    ./47_validation_data.yaml:5:12\n"
     ]
    }
   ],
   "source": [
    "cue vet 47_validation.cue 47_validation_data.yaml || true"
   ]
  },
  {
   "cell_type": "markdown",
   "metadata": {},
   "source": [
    "### Order is irrelevant\n",
    "\n",
    "CUE's basic operations are defined in a way that the order in which\n",
    "you combine two configurations is irrelevant to the outcome.\n",
    "\n",
    "This is crucial property of CUE\n",
    "that makes it easy for humans _and_ machines to reason over values and makes advanced tooling and automation possible."
   ]
  },
  {
   "cell_type": "code",
   "execution_count": 18,
   "metadata": {},
   "outputs": [
    {
     "name": "stdout",
     "output_type": "stream",
     "text": [
      "a: {x: 1, y: int}\n",
      "a: {x: int, y: 2}\n",
      "\n",
      "b: {x: int, y: 2}\n",
      "b: {x: 1, y: int}"
     ]
    }
   ],
   "source": [
    "cat 50_order.cue"
   ]
  },
  {
   "cell_type": "code",
   "execution_count": 19,
   "metadata": {},
   "outputs": [
    {
     "name": "stdout",
     "output_type": "stream",
     "text": [
      "a: {\n",
      "    x: 1\n",
      "    y: 2\n",
      "}\n",
      "b: {\n",
      "    x: 1\n",
      "    y: 2\n",
      "}\n"
     ]
    }
   ],
   "source": [
    "cue eval 50_order.cue"
   ]
  },
  {
   "cell_type": "markdown",
   "metadata": {},
   "source": [
    "### Folding of Single-Field Structs\n",
    "\n",
    "In JSON, one defines nested values, one value at a time.\n",
    "Another way to look at this is that a JSON configuration is a set of\n",
    "path-value pairs.\n",
    "\n",
    "In CUE one defines a set of paths to which to apply\n",
    "a concrete value or constraint all at once.\n",
    "Because of CUE's order independence, values get merged\n",
    "\n",
    "This example shows some path-value pairs, as well as\n",
    "a constraint that is applied to those to validate them."
   ]
  },
  {
   "cell_type": "code",
   "execution_count": 20,
   "metadata": {},
   "outputs": [
    {
     "name": "stdout",
     "output_type": "stream",
     "text": [
      "// path-value pairs\n",
      "outer: middle1: inner: 3\n",
      "outer: middle2: inner: 7\n",
      "\n",
      "// collection-constraint pair\n",
      "outer: [string]: inner: int\n"
     ]
    }
   ],
   "source": [
    "cat 55_fold.cue"
   ]
  },
  {
   "cell_type": "code",
   "execution_count": 21,
   "metadata": {},
   "outputs": [
    {
     "name": "stdout",
     "output_type": "stream",
     "text": [
      "{\n",
      "    \"outer\": {\n",
      "        \"middle1\": {\n",
      "            \"inner\": 3\n",
      "        },\n",
      "        \"middle2\": {\n",
      "            \"inner\": 7\n",
      "        }\n",
      "    }\n",
      "}\n"
     ]
    }
   ],
   "source": [
    "cue export 55_fold.cue"
   ]
  },
  {
   "cell_type": "markdown",
   "metadata": {},
   "source": [
    "### Boilerplate\n",
    "\n",
    "Constraints specify what values are allowed.\n",
    "To CUE they are just values like anything else,\n",
    "but conceptually they can be explained as something in between types and\n",
    "concrete values.\n",
    "\n",
    "Constraints can be used to validate values of concrete instances.\n",
    "They can be applied to CUE data, or directly to YAML or JSON.\n",
    "\n",
    "But constraints can also reduce boilerplate.\n",
    "If a constraints defines a concrete value, there is no need\n",
    "to specify it in values to which this constraint applies."
   ]
  },
  {
   "cell_type": "markdown",
   "metadata": {},
   "source": [
    "### More examples\n",
    "\n",
    "Please see official introduction: https://cuelang.org/docs/tutorials/"
   ]
  },
  {
   "cell_type": "code",
   "execution_count": null,
   "metadata": {},
   "outputs": [],
   "source": []
  }
 ],
 "metadata": {
  "kernelspec": {
   "display_name": "Bash",
   "language": "bash",
   "name": "bash"
  },
  "language_info": {
   "codemirror_mode": "shell",
   "file_extension": ".sh",
   "mimetype": "text/x-sh",
   "name": "bash"
  }
 },
 "nbformat": 4,
 "nbformat_minor": 4
}
