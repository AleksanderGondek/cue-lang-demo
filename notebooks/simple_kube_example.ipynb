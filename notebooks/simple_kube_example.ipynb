{
 "cells": [
  {
   "cell_type": "code",
   "execution_count": 14,
   "metadata": {},
   "outputs": [
    {
     "name": "stdout",
     "output_type": "stream",
     "text": [
      "#service: {\n",
      "    apiVersion: \"v1\"\n",
      "    kind:       \"Service\"\n",
      "    metadata: {\n",
      "        name: string\n",
      "        labels: {\n",
      "            app:       metadata.name    // by convention\n",
      "            domain:    \"prod\"  // always the same in the given files\n",
      "            component: string  // varies per directory\n",
      "        }\n",
      "    }\n",
      "    spec: {\n",
      "        // Any port has the following properties.\n",
      "        ports: [...{\n",
      "            port:       int\n",
      "            protocol:   *\"TCP\" | \"UDP\"      // from the Kubernetes definition\n",
      "            name:       string | *\"client\"\n",
      "        }]\n",
      "        selector: metadata.labels // we want those to be the same\n",
      "    }\n",
      "}\n",
      "\n",
      "svc_example: #service & {\n",
      "  metadata: {\n",
      "    name: \"test\"\n",
      "    labels: {\n",
      "      component: \"testing\"\n",
      "    }\n",
      "  }\n",
      "  spec: {\n",
      "    ports: [\n",
      "      {\n",
      "        port: 8080\n",
      "      }\n",
      "    ]\n",
      "  }\n",
      "}"
     ]
    }
   ],
   "source": [
    "cat kube_example.cue"
   ]
  },
  {
   "cell_type": "code",
   "execution_count": 15,
   "metadata": {},
   "outputs": [
    {
     "name": "stdout",
     "output_type": "stream",
     "text": [
      "{\n",
      "    \"svc_example\": {\n",
      "        \"apiVersion\": \"v1\",\n",
      "        \"kind\": \"Service\",\n",
      "        \"metadata\": {\n",
      "            \"name\": \"test\",\n",
      "            \"labels\": {\n",
      "                \"app\": \"test\",\n",
      "                \"domain\": \"prod\",\n",
      "                \"component\": \"testing\"\n",
      "            }\n",
      "        },\n",
      "        \"spec\": {\n",
      "            \"ports\": [\n",
      "                {\n",
      "                    \"name\": \"client\",\n",
      "                    \"port\": 8080,\n",
      "                    \"protocol\": \"TCP\"\n",
      "                }\n",
      "            ],\n",
      "            \"selector\": {\n",
      "                \"app\": \"test\",\n",
      "                \"domain\": \"prod\",\n",
      "                \"component\": \"testing\"\n",
      "            }\n",
      "        }\n",
      "    }\n",
      "}\n"
     ]
    }
   ],
   "source": [
    "cue export kube_example.cue"
   ]
  },
  {
   "cell_type": "code",
   "execution_count": 16,
   "metadata": {},
   "outputs": [
    {
     "name": "stdout",
     "output_type": "stream",
     "text": [
      "svc_example:\n",
      "  apiVersion: v1\n",
      "  kind: Service\n",
      "  metadata:\n",
      "    name: test\n",
      "    labels:\n",
      "      app: test\n",
      "      domain: prod\n",
      "      component: testing\n",
      "  spec:\n",
      "    ports:\n",
      "    - name: client\n",
      "      port: 8080\n",
      "      protocol: TCP\n",
      "    selector:\n",
      "      app: test\n",
      "      domain: prod\n",
      "      component: testing\n"
     ]
    }
   ],
   "source": [
    "cue export --out yaml kube_example.cue"
   ]
  },
  {
   "cell_type": "code",
   "execution_count": null,
   "metadata": {},
   "outputs": [],
   "source": []
  }
 ],
 "metadata": {
  "kernelspec": {
   "display_name": "Bash",
   "language": "bash",
   "name": "bash"
  },
  "language_info": {
   "codemirror_mode": "shell",
   "file_extension": ".sh",
   "mimetype": "text/x-sh",
   "name": "bash"
  }
 },
 "nbformat": 4,
 "nbformat_minor": 4
}
